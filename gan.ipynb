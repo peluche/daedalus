{
 "cells": [
  {
   "cell_type": "markdown",
   "metadata": {},
   "source": [
    "# GAN"
   ]
  },
  {
   "cell_type": "markdown",
   "metadata": {},
   "source": [
    "## setup"
   ]
  },
  {
   "cell_type": "code",
   "execution_count": 15,
   "metadata": {},
   "outputs": [],
   "source": [
    "from collections import deque\n",
    "import random\n",
    "import torch\n",
    "import torch.nn as nn\n",
    "import torch.nn.functional as F\n",
    "import matplotlib.pyplot as plt\n",
    "%matplotlib inline\n",
    "\n",
    "device = 'cuda' if torch.cuda.is_available() else 'cpu'"
   ]
  },
  {
   "cell_type": "markdown",
   "metadata": {},
   "source": [
    "## helpers"
   ]
  },
  {
   "cell_type": "markdown",
   "metadata": {},
   "source": [
    "### maze generator"
   ]
  },
  {
   "cell_type": "code",
   "execution_count": 16,
   "metadata": {},
   "outputs": [],
   "source": [
    "MOVES = [\n",
    "    (-1, 0), # up\n",
    "    (1, 0),  # down\n",
    "    (0, -1), # left\n",
    "    (0, 1),  # right\n",
    "]"
   ]
  },
  {
   "cell_type": "code",
   "execution_count": 84,
   "metadata": {},
   "outputs": [
    {
     "data": {
      "image/png": "[encoded data removed]",
      "text/plain": [
       "<Figure size 640x480 with 1 Axes>"
      ]
     },
     "metadata": {},
     "output_type": "display_data"
    }
   ],
   "source": [
    "# maze generator\n",
    "def make_maze(width):\n",
    "    maze = torch.zeros((width, width))\n",
    "    def add_exit(maze):\n",
    "        choices = (maze == 1).nonzero().tolist()\n",
    "        furthest = max(choices, key=lambda x: x[0] + x[1])\n",
    "        maze[furthest[0], furthest[1]] = -1\n",
    "\n",
    "    def rec(x, y):\n",
    "        while True:\n",
    "            pairs = []\n",
    "            for move in MOVES:\n",
    "                dx, dy = move\n",
    "                nx, ny = x + dx, y + dy\n",
    "                nnx, nny = nx + dx, ny + dy\n",
    "                if 0 <= nnx < width and 0 <= nny < width and maze[nnx, nny] == 0 and maze[nx, ny] == 0:\n",
    "                    pairs.append((nx, ny, nnx, nny))\n",
    "            random.shuffle(pairs)\n",
    "            if not pairs: break\n",
    "            nx, ny, nnx, nny = pairs[0]\n",
    "            maze[nx, ny], maze[nnx, nny] = 1, 1\n",
    "            rec(nnx, nny)\n",
    "\n",
    "    maze[0, 0] = 1\n",
    "    rec(0, 0)\n",
    "    add_exit(maze)\n",
    "    return maze\n",
    "\n",
    "def ascii_maze(maze):\n",
    "    lookup = {0: '@', 1: '_', -1: 'x'}\n",
    "    print('\\n'.join(''.join(lookup[i] for i in row) for row in maze.tolist()))\n",
    "\n",
    "def plot_maze(maze, ax=None, figsize=None):\n",
    "    if ax is None: _, ax = plt.subplots(figsize=figsize)\n",
    "    ax.imshow(-maze, 'Greys')\n",
    "    ax.set_xticks([])\n",
    "    ax.set_yticks([])\n",
    "\n",
    "# look at the maze\n",
    "maze = make_maze(23)\n",
    "plot_maze(maze)\n",
    "# ascii_maze(maze)"
   ]
  },
  {
   "cell_type": "markdown",
   "metadata": {},
   "source": [
    "### distances to exit"
   ]
  },
  {
   "cell_type": "code",
   "execution_count": 86,
   "metadata": {},
   "outputs": [
    {
     "data": {
      "image/png": "[encoded data removed]",
      "text/plain": [
       "<Figure size 640x480 with 1 Axes>"
      ]
     },
     "metadata": {},
     "output_type": "display_data"
    }
   ],
   "source": [
    "# compute optimal distances to the exit\n",
    "def dists(maze):\n",
    "    MAZE_WIDTH = maze.shape[0]\n",
    "    pos = tuple((maze == -1).nonzero().tolist()[0]) # locate the exit\n",
    "    dist = torch.zeros_like(maze)\n",
    "    seen = set()\n",
    "    q = deque()\n",
    "    q.append((pos, 0))\n",
    "    while q:\n",
    "        pos, d = q.popleft()\n",
    "        if pos in seen: continue\n",
    "        if maze[pos] == 0: continue\n",
    "        seen.add(pos)\n",
    "        dist[pos] = d\n",
    "        for move in MOVES:\n",
    "            new_pos = (pos[0] + move[0], pos[1] + move[1])\n",
    "            if 0 <= new_pos[0] < MAZE_WIDTH and 0 <= new_pos[1] < MAZE_WIDTH:\n",
    "                q.append((new_pos, d + 1))\n",
    "    return dist\n",
    "\n",
    "def plot_dists(maze, ax=None, figsize=None):\n",
    "    if ax is None: _, ax = plt.subplots(figsize=figsize)\n",
    "    dist = dists(maze)\n",
    "    unreachable = (dist == 0) & (maze == 1)\n",
    "    # revert distances for plotting\n",
    "    mask = maze != 0\n",
    "    dist[mask] = dist.max() - dist[mask]\n",
    "    # hide unreachable\n",
    "    dist[unreachable] = torch.nan\n",
    "    ax.imshow(dist, cmap=plt.cm.magma, interpolation='nearest')\n",
    "    ax.set_xticks([])\n",
    "    ax.set_yticks([])\n",
    "\n",
    "plot_dists(maze)"
   ]
  },
  {
   "cell_type": "markdown",
   "metadata": {},
   "source": [
    "### plot"
   ]
  },
  {
   "cell_type": "code",
   "execution_count": 87,
   "metadata": {},
   "outputs": [
    {
     "data": {
      "image/png": "[encoded data removed]",
      "text/plain": [
       "<Figure size 500x500 with 2 Axes>"
      ]
     },
     "metadata": {},
     "output_type": "display_data"
    }
   ],
   "source": [
    "def plotm(args, figsize=(5, 5)):\n",
    "    fig, ax = plt.subplots(1, 2, figsize=figsize)\n",
    "    plot_maze(maze, ax=ax[0])\n",
    "    plot_dists(maze, ax=ax[1])\n",
    "    fig.tight_layout()\n",
    "\n",
    "plotm(maze)"
   ]
  },
  {
   "cell_type": "markdown",
   "metadata": {},
   "source": [
    "## code"
   ]
  },
  {
   "cell_type": "code",
   "execution_count": 89,
   "metadata": {},
   "outputs": [],
   "source": [
    "# hyperparameters\n",
    "LEARNING_RATE = 3e-4"
   ]
  },
  {
   "cell_type": "markdown",
   "metadata": {},
   "source": [
    "### generator"
   ]
  },
  {
   "cell_type": "markdown",
   "metadata": {},
   "source": [
    "### discriminator"
   ]
  },
  {
   "cell_type": "markdown",
   "metadata": {},
   "source": [
    "### train"
   ]
  }
 ],
 "metadata": {
  "kernelspec": {
   "display_name": "venv_hf_nlp",
   "language": "python",
   "name": "venv_hf_nlp"
  },
  "language_info": {
   "codemirror_mode": {
    "name": "ipython",
    "version": 3
   },
   "file_extension": ".py",
   "mimetype": "text/x-python",
   "name": "python",
   "nbconvert_exporter": "python",
   "pygments_lexer": "ipython3",
   "version": "3.11.2"
  },
  "orig_nbformat": 4
 },
 "nbformat": 4,
 "nbformat_minor": 2
}
